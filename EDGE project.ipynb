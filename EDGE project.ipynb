{
 "cells": [
  {
   "cell_type": "code",
   "execution_count": 1,
   "id": "31a0ef5f-2f9f-4dc7-8d19-a46bd21802e4",
   "metadata": {},
   "outputs": [],
   "source": [
    "import pandas as pd\n",
    "import matplotlib.pyplot as plt\n",
    "import seaborn as sns"
   ]
  },
  {
   "cell_type": "code",
   "execution_count": 3,
   "id": "c9d6824d-95ac-4687-8437-daa2ab7c3703",
   "metadata": {},
   "outputs": [
    {
     "name": "stdout",
     "output_type": "stream",
     "text": [
      "   InvoiceID        Date  CustomerID CustomerRegion ProductCategory   Brand  \\\n",
      "0          1  2023-01-01         272           East         Desktop  Lenovo   \n",
      "1          2  2023-01-02         147           East         Desktop   Apple   \n",
      "2          3  2023-01-03         217          South         Desktop      HP   \n",
      "3          4  2023-01-04         292          South         Desktop      HP   \n",
      "4          5  2023-01-05         423           West         Desktop    Acer   \n",
      "\n",
      "   UnitPrice  Quantity  \n",
      "0       1965         1  \n",
      "1        815         4  \n",
      "2        823         4  \n",
      "3       1711         4  \n",
      "4       1434         4  \n"
     ]
    }
   ],
   "source": [
    "df=pd.read_csv('computer_sales.csv')\n",
    "print(df.head(5))"
   ]
  },
  {
   "cell_type": "code",
   "execution_count": 5,
   "id": "9ed1121d-2d8b-4f7b-8a94-bd955e3bcd05",
   "metadata": {},
   "outputs": [
    {
     "name": "stdout",
     "output_type": "stream",
     "text": [
      "<bound method DataFrame.info of      InvoiceID        Date  CustomerID CustomerRegion ProductCategory   Brand  \\\n",
      "0            1  2023-01-01         272           East         Desktop  Lenovo   \n",
      "1            2  2023-01-02         147           East         Desktop   Apple   \n",
      "2            3  2023-01-03         217          South         Desktop      HP   \n",
      "3            4  2023-01-04         292          South         Desktop      HP   \n",
      "4            5  2023-01-05         423           West         Desktop    Acer   \n",
      "..         ...         ...         ...            ...             ...     ...   \n",
      "995        996  2025-09-22         325          North       Accessory  Lenovo   \n",
      "996        997  2025-09-23         194          North          Laptop   Apple   \n",
      "997        998  2025-09-24         338          North       Accessory    Dell   \n",
      "998        999  2025-09-25         265           West       Accessory  Lenovo   \n",
      "999       1000  2025-09-26         482          North       Accessory   Apple   \n",
      "\n",
      "     UnitPrice  Quantity  \n",
      "0         1965         1  \n",
      "1          815         4  \n",
      "2          823         4  \n",
      "3         1711         4  \n",
      "4         1434         4  \n",
      "..         ...       ...  \n",
      "995       1113         1  \n",
      "996        571         4  \n",
      "997        529         3  \n",
      "998        533         3  \n",
      "999       1441         3  \n",
      "\n",
      "[1000 rows x 8 columns]>\n"
     ]
    }
   ],
   "source": [
    "print(df.info)"
   ]
  },
  {
   "cell_type": "markdown",
   "id": "43448fae-c469-4c8d-89b9-4b1f9d1eab04",
   "metadata": {},
   "source": [
    "print(df.describe())"
   ]
  },
  {
   "cell_type": "code",
   "execution_count": 9,
   "id": "0504895d-185d-4832-86c3-2e68aa23c961",
   "metadata": {},
   "outputs": [
    {
     "name": "stdout",
     "output_type": "stream",
     "text": [
      "InvoiceID          0\n",
      "Date               0\n",
      "CustomerID         0\n",
      "CustomerRegion     0\n",
      "ProductCategory    0\n",
      "Brand              0\n",
      "UnitPrice          0\n",
      "Quantity           0\n",
      "dtype: int64\n"
     ]
    }
   ],
   "source": [
    "print(df.isnull().sum())"
   ]
  },
  {
   "cell_type": "markdown",
   "id": "9435afc2-bf05-4413-b664-f07b4a47ec61",
   "metadata": {},
   "source": [
    "## 4.sales analysis"
   ]
  },
  {
   "cell_type": "markdown",
   "id": "87cfb0f4-c43e-4755-947c-354087ecfe0b",
   "metadata": {},
   "source": [
    "## product wise sales"
   ]
  },
  {
   "cell_type": "code",
   "execution_count": 14,
   "id": "b0a13f58-72a6-4c7d-bbba-2460e94b8fb0",
   "metadata": {},
   "outputs": [
    {
     "name": "stdout",
     "output_type": "stream",
     "text": [
      "   InvoiceID        Date  CustomerID CustomerRegion ProductCategory   Brand  \\\n",
      "0          1  2023-01-01         272           East         Desktop  Lenovo   \n",
      "1          2  2023-01-02         147           East         Desktop   Apple   \n",
      "2          3  2023-01-03         217          South         Desktop      HP   \n",
      "\n",
      "   UnitPrice  Quantity  Sales  \n",
      "0       1965         1   1965  \n",
      "1        815         4   3260  \n",
      "2        823         4   3292  \n"
     ]
    }
   ],
   "source": [
    "df['Sales']=df['UnitPrice']*df['Quantity']\n",
    "print(df.head(3))"
   ]
  },
  {
   "cell_type": "code",
   "execution_count": 18,
   "id": "5585c74b-08fa-43bf-9a87-2dde68fb1c42",
   "metadata": {},
   "outputs": [
    {
     "name": "stdout",
     "output_type": "stream",
     "text": [
      "                   Sales\n",
      "ProductCategory         \n",
      "Accessory         955066\n",
      "Desktop          1028865\n",
      "Laptop            971531\n"
     ]
    },
    {
     "name": "stderr",
     "output_type": "stream",
     "text": [
      "C:\\Users\\Ncc\\AppData\\Local\\Temp\\ipykernel_15152\\3308604996.py:1: FutureWarning: The provided callable <built-in function sum> is currently using DataFrameGroupBy.sum. In a future version of pandas, the provided callable will be used directly. To keep current behavior pass the string \"sum\" instead.\n",
      "  pivot1=pd.pivot_table(\n"
     ]
    }
   ],
   "source": [
    "pivot1=pd.pivot_table(\n",
    "    df,\n",
    "    index='ProductCategory',\n",
    "    values='Sales',\n",
    "    aggfunc=sum\n",
    ")\n",
    "print(pivot1)"
   ]
  },
  {
   "cell_type": "code",
   "execution_count": 22,
   "id": "0bf5fec6-b435-4f73-8e45-69011b1a04a1",
   "metadata": {},
   "outputs": [
    {
     "name": "stdout",
     "output_type": "stream",
     "text": [
      "                   Sales\n",
      "ProductCategory         \n",
      "Accessory         955066\n",
      "Desktop          1028865\n",
      "Laptop            971531\n"
     ]
    },
    {
     "data": {
      "text/plain": [
       "<Axes: xlabel='ProductCategory'>"
      ]
     },
     "execution_count": 22,
     "metadata": {},
     "output_type": "execute_result"
    },
    {
     "data": {
      "image/png": "[encoded data removed]",
      "text/plain": [
       "<Figure size 640x480 with 1 Axes>"
      ]
     },
     "metadata": {},
     "output_type": "display_data"
    }
   ],
   "source": [
    "pivot1=pd.pivot_table(\n",
    "    df,\n",
    "    index='ProductCategory',\n",
    "    values='Sales',\n",
    "    aggfunc='sum'\n",
    ")\n",
    "print(pivot1)\n",
    "pivot1.plot(kind='bar')"
   ]
  },
  {
   "cell_type": "markdown",
   "id": "af6218fd-217d-4a2c-9af7-c3d4276fae38",
   "metadata": {},
   "source": [
    "## product wise sales"
   ]
  },
  {
   "cell_type": "code",
   "execution_count": 22,
   "id": "9fbbfa47-c351-400c-8cf6-d6ac89bc8d15",
   "metadata": {},
   "outputs": [
    {
     "name": "stdout",
     "output_type": "stream",
     "text": [
      "                   Sales\n",
      "ProductCategory         \n",
      "Accessory         955066\n",
      "Desktop          1028865\n",
      "Laptop            971531\n"
     ]
    },
    {
     "data": {
      "text/plain": [
       "<Axes: xlabel='ProductCategory'>"
      ]
     },
     "execution_count": 22,
     "metadata": {},
     "output_type": "execute_result"
    },
    {
     "data": {
      "image/png": "[encoded data removed]",
      "text/plain": [
       "<Figure size 640x480 with 1 Axes>"
      ]
     },
     "metadata": {},
     "output_type": "display_data"
    }
   ],
   "source": [
    "pivot1=pd.pivot_table(\n",
    "    df,\n",
    "    index='ProductCategory',\n",
    "    values='Sales',\n",
    "    aggfunc='sum'\n",
    ")\n",
    "print(pivot1)\n",
    "pivot1.plot(kind='bar')\n"
   ]
  },
  {
   "cell_type": "markdown",
   "id": "04aa0b47-b59a-46d2-ac1e-56493b89edf3",
   "metadata": {},
   "source": [
    "## hight sale show"
   ]
  },
  {
   "cell_type": "code",
   "execution_count": 34,
   "id": "6034229c-1d46-4c27-8192-490ed5054919",
   "metadata": {},
   "outputs": [
    {
     "name": "stdout",
     "output_type": "stream",
     "text": [
      "Brand\n",
      "HP        639068\n",
      "Apple     609642\n",
      "Lenovo    586889\n",
      "Dell      585753\n",
      "Acer      534110\n",
      "Name: Sales, dtype: int64\n"
     ]
    },
    {
     "data": {
      "text/plain": [
       "<Axes: ylabel='Sales'>"
      ]
     },
     "execution_count": 34,
     "metadata": {},
     "output_type": "execute_result"
    },
    {
     "data": {
      "image/png": "[encoded data removed]",
      "text/plain": [
       "<Figure size 640x480 with 1 Axes>"
      ]
     },
     "metadata": {},
     "output_type": "display_data"
    }
   ],
   "source": [
    "category_sales=df.groupby('Brand')['Sales'].sum().sort_values(ascending=False)\n",
    "print(category_sales)\n",
    "\n",
    "category_sales.plot(kind='pie')"
   ]
  },
  {
   "cell_type": "code",
   "execution_count": 38,
   "id": "0efc9635-8926-4520-84a6-02e8e957b515",
   "metadata": {},
   "outputs": [
    {
     "name": "stdout",
     "output_type": "stream",
     "text": [
      "           UnitPrice  Quantity     Sales\n",
      "UnitPrice   1.000000 -0.009487  0.641566\n",
      "Quantity   -0.009487  1.000000  0.699714\n",
      "Sales       0.641566  0.699714  1.000000\n"
     ]
    }
   ],
   "source": [
    "corr_mat=df[['UnitPrice','Quantity','Sales']].corr()\n",
    "print(corr_mat)\n",
    "             "
   ]
  },
  {
   "cell_type": "code",
   "execution_count": 40,
   "id": "32312f28-8df0-4f1f-b437-9aa6beb8741f",
   "metadata": {},
   "outputs": [
    {
     "name": "stdout",
     "output_type": "stream",
     "text": [
      "           UnitPrice  Quantity     Sales\n",
      "UnitPrice   1.000000 -0.009487  0.641566\n",
      "Quantity   -0.009487  1.000000  0.699714\n",
      "Sales       0.641566  0.699714  1.000000\n"
     ]
    },
    {
     "data": {
      "text/plain": [
       "<Axes: >"
      ]
     },
     "execution_count": 40,
     "metadata": {},
     "output_type": "execute_result"
    },
    {
     "data": {
      "image/png": "[encoded data removed]",
      "text/plain": [
       "<Figure size 640x480 with 2 Axes>"
      ]
     },
     "metadata": {},
     "output_type": "display_data"
    }
   ],
   "source": [
    "corr_mat=df[['UnitPrice','Quantity','Sales']].corr()\n",
    "print(corr_mat)\n",
    "sns.heatmap(corr_mat,cmap='coolwarm')"
   ]
  },
  {
   "cell_type": "markdown",
   "id": "c7ef0dfa-32af-4cfd-be46-630542b5b9b0",
   "metadata": {},
   "source": [
    "## top selling customar"
   ]
  },
  {
   "cell_type": "code",
   "execution_count": 47,
   "id": "a98cc14b-537f-40c1-899f-0cf92649662e",
   "metadata": {},
   "outputs": [
    {
     "name": "stdout",
     "output_type": "stream",
     "text": [
      "CustomerID\n",
      "496    24354\n",
      "297    24016\n",
      "248    24008\n",
      "307    24000\n",
      "390    23263\n",
      "       ...  \n",
      "152      646\n",
      "412      646\n",
      "196      576\n",
      "201      394\n",
      "121      326\n",
      "Name: Sales, Length: 371, dtype: int64\n"
     ]
    }
   ],
   "source": [
    "customer_summary=df.groupby('CustomerID')['Sales'].sum().sort_values(ascending=False)\n",
    "print(customer_summary)"
   ]
  },
  {
   "cell_type": "code",
   "execution_count": null,
   "id": "63d402b1-ba55-4b50-9af1-9b72d406d538",
   "metadata": {},
   "outputs": [],
   "source": []
  }
 ],
 "metadata": {
  "kernelspec": {
   "display_name": "Python [conda env:base] *",
   "language": "python",
   "name": "conda-base-py"
  },
  "language_info": {
   "codemirror_mode": {
    "name": "ipython",
    "version": 3
   },
   "file_extension": ".py",
   "mimetype": "text/x-python",
   "name": "python",
   "nbconvert_exporter": "python",
   "pygments_lexer": "ipython3",
   "version": "3.12.7"
  }
 },
 "nbformat": 4,
 "nbformat_minor": 5
}
